{
 "cells": [
  {
   "cell_type": "markdown",
   "metadata": {},
   "source": [
    "DEPENDENCIES"
   ]
  },
  {
   "cell_type": "code",
   "execution_count": 1,
   "metadata": {},
   "outputs": [],
   "source": [
    "import numpy as np\n",
    "import pandas as pd\n",
    "from scipy.optimize import minimize\n",
    "import cvxpy as cp "
   ]
  },
  {
   "cell_type": "markdown",
   "metadata": {},
   "source": [
    "LOAD INPUT PRICE FILE"
   ]
  },
  {
   "cell_type": "code",
   "execution_count": 2,
   "metadata": {},
   "outputs": [],
   "source": [
    "def load_source(sourcefile):\n",
    "    try:\n",
    "        source_df=pd.read_csv(sourcefile)\n",
    "        temp=source_df.get('Date')\n",
    "        if not temp is None:\n",
    "            source_df.index=temp \n",
    "            source_df=source_df.drop(columns=['Date'])\n",
    "        return source_df\n",
    "    except:\n",
    "        print('NO SOURCE FOUND')\n",
    "        return None"
   ]
  },
  {
   "cell_type": "markdown",
   "metadata": {},
   "source": [
    "CALCULATE RETURNS"
   ]
  },
  {
   "cell_type": "code",
   "execution_count": 3,
   "metadata": {},
   "outputs": [],
   "source": [
    "def calculate_returns(source_df):\n",
    "    price_data=np.array(source_df.values,dtype='float64')\n",
    "    price_data1=np.ones((price_data.shape[0],price_data.shape[1]))\n",
    "    price_data1[1:]=price_data[:-1]\n",
    "    returns=(price_data/price_data1)\n",
    "    returns=returns[1:]-1. \n",
    "    returns_df=pd.DataFrame(returns,columns=source_df.columns,index=source_df.index[1:])   \n",
    "    return(returns_df)"
   ]
  },
  {
   "cell_type": "markdown",
   "metadata": {},
   "source": [
    "FIND BEST ALLOCATION"
   ]
  },
  {
   "cell_type": "code",
   "execution_count": 4,
   "metadata": {},
   "outputs": [],
   "source": [
    "def find_best_allocation(rtns_df,lev,long_only,worst):\n",
    "    rtns=rtns_df.values\n",
    "    nrows,ncols=rtns.shape\n",
    "    levreturn=(rtns*lev)\n",
    "    \n",
    "    xx=cp.Variable(ncols)\n",
    "    if long_only:\n",
    "        constraints =[sum(xx)==1, 0<=xx, xx<=1, worst <= levreturn @ xx ]\n",
    "    else:\n",
    "        constraints = [sum(xx)==1,worst <= levreturn @ xx ]\n",
    "    objective=cp.Minimize(cp.sum(-cp.log1p(levreturn @ xx)))\n",
    "    prob=cp.Problem(objective,constraints)\n",
    "    result=prob.solve(solver=cp.CLARABEL,tol_feas=1e-7,tol_gap_abs=1e-7, tol_gap_rel=1e-7, tol_ktratio=1e-7, verbose=False) /nrows/lev\n",
    "    xxvalue=xx.value #allocation\n",
    "            \n",
    "    if xxvalue is None:                \n",
    "        print('WARNING!!!! cvxpy problem mappears not feasible.')\n",
    "        return None\n",
    "                \n",
    "    prtns=np.dot(rtns,xxvalue)     \n",
    "    alloc=xxvalue \n",
    "\n",
    "    return ('dummy',prtns,xxvalue,-result)\n"
   ]
  },
  {
   "cell_type": "markdown",
   "metadata": {},
   "source": [
    "LOAD ACTUAL ALLOCATION -- NON OPTIMAL"
   ]
  },
  {
   "cell_type": "code",
   "execution_count": 5,
   "metadata": {},
   "outputs": [],
   "source": [
    "def load_actual_alloc(tickers,allocationfile):\n",
    "    print(' ')\n",
    "    try:\n",
    "        alloc_df=pd.read_csv(allocationfile)\n",
    "        allocs=alloc_df.values[0]\n",
    "        print('Input Allocation: ')\n",
    "        print(allocs)\n",
    "        if (list(alloc_df.columns)==list(tickers)):\n",
    "            return allocs\n",
    "        else:\n",
    "            print('APPROPRIATE ACTUAL ALLOCATIONS NOT FOUND')\n",
    "            return None\n",
    "    except:\n",
    "        print('BAD ALLOCATION FILE')\n",
    "        return None"
   ]
  },
  {
   "cell_type": "markdown",
   "metadata": {},
   "source": [
    "IMPLIED RETURNS ESTIMATOR"
   ]
  },
  {
   "cell_type": "code",
   "execution_count": 6,
   "metadata": {},
   "outputs": [],
   "source": [
    "def implied_dif_returns_nelder(rtns, lev, allocation, worst, target_exputil):\n",
    "\n",
    "    nrows, ncols = rtns.shape\n",
    "    \n",
    "    def objective(x):\n",
    "        adjusted_rtns = rtns + x[np.newaxis, :]\n",
    "        port_rtns = adjusted_rtns @ allocation\n",
    "        lev_port_rtns = lev * port_rtns\n",
    "        \n",
    "        if np.any(1 + lev_port_rtns <= 0):\n",
    "            return 1e10\n",
    "        \n",
    "        exp_util = np.sum(np.log1p(lev_port_rtns)) / nrows / lev\n",
    "        return (exp_util - target_exputil)**2\n",
    "    \n",
    "    x0 = np.zeros(ncols)\n",
    "    result = minimize(objective, x0, method='Nelder-Mead', \n",
    "                     options={'xatol': 1e-8, 'fatol': 1e-12, 'maxiter': 20000})\n",
    "    \n",
    "    return result.x\n",
    "\n"
   ]
  },
  {
   "cell_type": "markdown",
   "metadata": {},
   "source": [
    "IMPLIED EXPECTED RETURN"
   ]
  },
  {
   "cell_type": "code",
   "execution_count": 7,
   "metadata": {},
   "outputs": [],
   "source": [
    "def find_implied_dif_expected_returns(returns_df, lev, worst, allocation, exputil):\n",
    "    rtns = returns_df.values\n",
    "    ncols=rtns.shape[1]\n",
    "    output = implied_dif_returns_nelder(rtns, lev, allocation, worst, exputil).T\n",
    "   \n",
    "    return output"
   ]
  },
  {
   "cell_type": "markdown",
   "metadata": {},
   "source": [
    "PRINT PARAMETERS"
   ]
  },
  {
   "cell_type": "code",
   "execution_count": 8,
   "metadata": {},
   "outputs": [],
   "source": [
    "def print_parameters(sourcefile,sourcetype,Llist,long_only,worst,actual_alloc):\n",
    "    print(' ')    \n",
    "    print(f'{sourcefile=}')\n",
    "    print(f'{sourcetype=}')\n",
    "    print(f'{Llist=}')\n",
    "    print(f'{long_only=}') \n",
    "    print(f'{worst=}')\n",
    "    print(f'{actual_alloc=}')\n",
    "    print(' ')\n",
    "    return    "
   ]
  },
  {
   "cell_type": "markdown",
   "metadata": {},
   "source": [
    "MAIN PROGRAM"
   ]
  },
  {
   "cell_type": "code",
   "execution_count": 9,
   "metadata": {},
   "outputs": [],
   "source": [
    "def woptimize(params={}):\n",
    "\n",
    "    sourcefile=params.get('sourcefile')\n",
    "    sourcetype=params.get('sourcetype')    \n",
    "    Llist=params.get('Llist')\n",
    "    long_only=params.get('long_only')\n",
    "    worst=params.get('worst')\n",
    "    allocationfile=params.get('allocationfile')\n",
    "    \n",
    "    #record control parameters\n",
    "    print_parameters(sourcefile,sourcetype,Llist,long_only,worst,allocationfile)\n",
    "        \n",
    "    #Read in Prices or Returns, based on sourcetype, adjusted for dividends and interest if possible\n",
    "    if sourcetype=='PRICES':        \n",
    "        #Calculate return matrix\n",
    "        returns_df=calculate_returns(load_source(sourcefile))\n",
    "    elif sourcetype=='RETURNS':\n",
    "        returns_df=load_source(sourcefile)\n",
    "    else:\n",
    "        print('UNABLE TO DETERMINE SOURCE TYPE')\n",
    "        raise\n",
    "    print(returns_df.head())\n",
    "\n",
    "    act_alloc = load_actual_alloc(returns_df.columns,allocationfile)\n",
    "    print('act_alloc: ',act_alloc)\n",
    "    \n",
    "    #log leveraged surplus optimizations\n",
    "    big_exputil_df=pd.DataFrame(np.zeros((1,len(Llist))),columns=Llist)\n",
    "    big_walloc=np.zeros((len(returns_df.columns),len(Llist)))\n",
    "    big_walloc_df = pd.DataFrame(big_walloc,columns=Llist,index=returns_df.columns)\n",
    "    big_implied_dif = np.zeros((len(returns_df.columns),len(Llist)))\n",
    "    big_implied_dif_df = pd.DataFrame(big_implied_dif,columns=Llist,index=returns_df.columns)\n",
    "    for lev in Llist:\n",
    "        (error_code1, wpreturns,walloc,exputil) = find_best_allocation(returns_df,lev,long_only,worst)\n",
    "        big_walloc_df[lev]=walloc\n",
    "        big_exputil_df[lev]=exputil\n",
    "        \n",
    "        big_implied_dif_df[lev] = find_implied_dif_expected_returns(returns_df,lev,worst,act_alloc,exputil)\n",
    "         \n",
    "    with pd.option_context('display.float_format', '{:,.5f}'.format):\n",
    "        print(' ')\n",
    "        print('OPTIMAL ALLOCATIONS')\n",
    "        print(big_walloc_df)\n",
    "        print(' ')\n",
    "        print('EXPECTED UTILITIES')\n",
    "        print(big_exputil_df)\n",
    "        print(' ')\n",
    "        print('IMPLIED DIFFERENCE IN EXPECTED RETURN')\n",
    "        print(big_implied_dif_df)\n",
    "    print(' ')        \n",
    "    \n",
    "    print('DONE!')\n",
    "    \n",
    "    return"
   ]
  },
  {
   "cell_type": "markdown",
   "metadata": {},
   "source": [
    "SET PARAMETERS, CALL ALLOCATION OPTIMIZATION, CALCULATE IMPLIED RETURNS FOR A NON-OPTIMAL ALLOCATION"
   ]
  },
  {
   "cell_type": "code",
   "execution_count": 10,
   "metadata": {},
   "outputs": [
    {
     "name": "stdout",
     "output_type": "stream",
     "text": [
      " \n",
      "sourcefile='DATA20/prices.csv'\n",
      "sourcetype='PRICES'\n",
      "Llist=[1, 2, 4, 8]\n",
      "long_only=True\n",
      "worst=-0.99\n",
      "actual_alloc='test_allocation.csv'\n",
      " \n",
      "               VWSTX       XLE       EWJ     VWEHX       XLP     VWAHX  \\\n",
      "Date                                                                     \n",
      "1999-01-01  0.004880 -0.065596  0.025385  0.019328 -0.013233  0.018370   \n",
      "1999-02-01  0.001924 -0.008597 -0.035715 -0.005854 -0.010496 -0.002812   \n",
      "1999-03-01  0.000833  0.137284  0.135803  0.007603 -0.002947 -0.000547   \n",
      "1999-04-01  0.002508  0.152157  0.043478  0.013409 -0.033165  0.004415   \n",
      "1999-05-01  0.001801 -0.021583 -0.057292 -0.016409 -0.010410 -0.006809   \n",
      "\n",
      "               VFIIX       XLV     VUSTX     VWESX       XLY       DIA  \\\n",
      "Date                                                                     \n",
      "1999-01-01  0.008281  0.048077  0.009904  0.028579  0.051435  0.020846   \n",
      "1999-02-01 -0.007106  0.001147 -0.047315 -0.036633 -0.006257 -0.002542   \n",
      "1999-03-01  0.006325  0.026346 -0.015088 -0.005120  0.047510  0.054013   \n",
      "1999-04-01  0.004371  0.035714  0.013424  0.004758  0.027344  0.102672   \n",
      "1999-05-01 -0.008280 -0.030712 -0.017152 -0.016449 -0.045261 -0.022916   \n",
      "\n",
      "                 XLK       SPY     VFITX  \n",
      "Date                                      \n",
      "1999-01-01  0.159004  0.038665  0.006580  \n",
      "1999-02-01 -0.099173 -0.032069 -0.030332  \n",
      "1999-03-01  0.074312  0.038948  0.005414  \n",
      "1999-04-01  0.005978  0.040492  0.003062  \n",
      "1999-05-01  0.003396 -0.022866 -0.013952  \n",
      " \n",
      "Input Allocation: \n",
      "[0.076 0.066 0.066 0.066 0.066 0.066 0.066 0.066 0.066 0.066 0.066 0.066\n",
      " 0.066 0.066 0.066]\n",
      "act_alloc:  [0.076 0.066 0.066 0.066 0.066 0.066 0.066 0.066 0.066 0.066 0.066 0.066\n",
      " 0.066 0.066 0.066]\n",
      " \n",
      "OPTIMAL ALLOCATIONS\n",
      "            1       2       4        8\n",
      "VWSTX 0.00000 0.00000 0.00000 -0.00000\n",
      "XLE   0.00000 0.05302 0.07628  0.05339\n",
      "EWJ   0.00000 0.00000 0.00000 -0.00000\n",
      "VWEHX 0.00000 0.00000 0.00000  0.00000\n",
      "XLP   0.00000 0.00000 0.00000  0.00000\n",
      "VWAHX 0.00000 0.00000 0.00000  0.09842\n",
      "VFIIX 0.00000 0.00000 0.00000  0.13658\n",
      "XLV   0.00514 0.10951 0.16398  0.13588\n",
      "VUSTX 0.02916 0.31558 0.46473  0.38590\n",
      "VWESX 0.00000 0.00000 0.00000  0.00000\n",
      "XLY   0.96569 0.52188 0.29501  0.13669\n",
      "DIA   0.00000 0.00000 0.00000  0.05313\n",
      "XLK   0.00000 0.00000 0.00000  0.00000\n",
      "SPY   0.00000 0.00000 0.00000 -0.00000\n",
      "VFITX 0.00000 0.00000 0.00000  0.00000\n",
      " \n",
      "EXPECTED UTILITIES\n",
      "        1       2       4       8\n",
      "0 0.00722 0.00647 0.00571 0.00462\n",
      " \n",
      "IMPLIED DIFFERENCE IN EXPECTED RETURN\n",
      "             1        2        4        8\n",
      "VWSTX  0.00491  0.00363  0.00306  0.00341\n",
      "XLE    0.00563  0.00406  0.00330  0.00357\n",
      "EWJ   -0.00063  0.00855 -0.00049 -0.00054\n",
      "VWEHX -0.00066 -0.00058 -0.00022 -0.00030\n",
      "XLP   -0.00170  0.00119 -0.00081 -0.00097\n",
      "VWAHX  0.01176 -0.00038  0.00696  0.00770\n",
      "VFIIX  0.00140  0.00190  0.00104  0.00107\n",
      "XLV    0.00264 -0.00110  0.00160  0.00173\n",
      "VUSTX -0.00490 -0.00352 -0.00294 -0.00316\n",
      "VWESX -0.00463 -0.00324 -0.00267 -0.00298\n",
      "XLY    0.00765  0.00549  0.00470  0.00514\n",
      "DIA    0.00422  0.00304  0.00241  0.00269\n",
      "XLK    0.00249  0.00176  0.00136  0.00158\n",
      "SPY    0.00336  0.00249  0.00203  0.00223\n",
      "VFITX -0.00333 -0.00253 -0.00217 -0.00239\n",
      " \n",
      "DONE!\n"
     ]
    }
   ],
   "source": [
    "#set parameters\n",
    "params=dict(\n",
    "    sourcefile='DATA20/prices.csv',\n",
    "    sourcetype='PRICES',\n",
    "    Llist=[1,2,4,8],\n",
    "    long_only=True,\n",
    "    worst=(-0.99),\n",
    "    allocationfile = 'test_allocation.csv'\n",
    "    )\n",
    "\n",
    "#run main program\n",
    "optimizer_output=woptimize(params)\n"
   ]
  }
 ],
 "metadata": {
  "kernelspec": {
   "display_name": "Python 3 (ipykernel)",
   "language": "python",
   "name": "python3"
  },
  "language_info": {
   "codemirror_mode": {
    "name": "ipython",
    "version": 3
   },
   "file_extension": ".py",
   "mimetype": "text/x-python",
   "name": "python",
   "nbconvert_exporter": "python",
   "pygments_lexer": "ipython3",
   "version": "3.13.0"
  }
 },
 "nbformat": 4,
 "nbformat_minor": 4
}
